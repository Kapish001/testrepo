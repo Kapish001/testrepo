{
 "cells": [
  {
   "cell_type": "code",
   "execution_count": 1,
   "id": "57b2115a",
   "metadata": {},
   "outputs": [],
   "source": [
    "from celery import Celery"
   ]
  },
  {
   "cell_type": "code",
   "execution_count": null,
   "id": "fc513beb",
   "metadata": {},
   "outputs": [],
   "source": [
    "!pip install celery==5.2.2"
   ]
  },
  {
   "cell_type": "code",
   "execution_count": null,
   "id": "84d307bc",
   "metadata": {},
   "outputs": [],
   "source": [
    "!pip install amqp==5.2.0"
   ]
  },
  {
   "cell_type": "code",
   "execution_count": null,
   "id": "82e17e81",
   "metadata": {},
   "outputs": [],
   "source": []
  }
 ],
 "metadata": {
  "kernelspec": {
   "display_name": "Python 3",
   "language": "python",
   "name": "python3"
  },
  "language_info": {
   "codemirror_mode": {
    "name": "ipython",
    "version": 3
   },
   "file_extension": ".py",
   "mimetype": "text/x-python",
   "name": "python",
   "nbconvert_exporter": "python",
   "pygments_lexer": "ipython3",
   "version": "3.9.18"
  }
 },
 "nbformat": 4,
 "nbformat_minor": 5
}
