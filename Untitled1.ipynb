{
 "cells": [
  {
   "cell_type": "code",
   "execution_count": 2,
   "id": "77eb64b6",
   "metadata": {},
   "outputs": [
    {
     "ename": "ModuleNotFoundError",
     "evalue": "No module named 'celery'",
     "output_type": "error",
     "traceback": [
      "\u001b[0;31m---------------------------------------------------------------------------\u001b[0m",
      "\u001b[0;31mModuleNotFoundError\u001b[0m                       Traceback (most recent call last)",
      "Cell \u001b[0;32mIn[2], line 1\u001b[0m\n\u001b[0;32m----> 1\u001b[0m \u001b[38;5;28;01mfrom\u001b[39;00m \u001b[38;5;21;01mcelery\u001b[39;00m \u001b[38;5;28;01mimport\u001b[39;00m Celery\n",
      "\u001b[0;31mModuleNotFoundError\u001b[0m: No module named 'celery'"
     ]
    }
   ],
   "source": [
    "from celery import Celery"
   ]
  },
  {
   "cell_type": "code",
   "execution_count": 3,
   "id": "320c0bd9",
   "metadata": {},
   "outputs": [
    {
     "name": "stdout",
     "output_type": "stream",
     "text": [
      "Collecting celery==5.2.2\n",
      "\u001b[?25l  Downloading https://files.pythonhosted.org/packages/1d/a9/57e261eb3d95c74faf6a0ab7b21b4a875bfe3f71d60b1788ddafdef71f37/celery-5.2.2-py3-none-any.whl (405kB)\n",
      "\u001b[K     |████████████████████████████████| 409kB 1.3MB/s eta 0:00:01\n",
      "\u001b[?25hCollecting click-repl>=0.2.0\n",
      "  Downloading https://files.pythonhosted.org/packages/52/40/9d857001228658f0d59e97ebd4c346fe73e138c6de1bce61dc568a57c7f8/click_repl-0.3.0-py3-none-any.whl\n",
      "Collecting click-plugins>=1.1.1\n",
      "  Downloading https://files.pythonhosted.org/packages/e9/da/824b92d9942f4e472702488857914bdd50f73021efea15b4cad9aca8ecef/click_plugins-1.1.1-py2.py3-none-any.whl\n",
      "Collecting kombu<6.0,>=5.2.2\n",
      "\u001b[?25l  Downloading https://files.pythonhosted.org/packages/78/e8/bade4ea794047c94bb267c08aad9d5270c803c18296e876b5d97bad28daf/kombu-5.3.6-py3-none-any.whl (200kB)\n",
      "\u001b[K     |████████████████████████████████| 204kB 36.7MB/s eta 0:00:01\n",
      "\u001b[?25hCollecting click-didyoumean>=0.0.3\n",
      "  Downloading https://files.pythonhosted.org/packages/1b/5b/974430b5ffdb7a4f1941d13d83c64a0395114503cc357c6b9ae4ce5047ed/click_didyoumean-0.3.1-py3-none-any.whl\n",
      "Collecting setuptools\n",
      "\u001b[?25l  Downloading https://files.pythonhosted.org/packages/92/e1/1c8bb3420105e70bdf357d57dd5567202b4ef8d27f810e98bb962d950834/setuptools-69.2.0-py3-none-any.whl (821kB)\n",
      "\u001b[K     |████████████████████████████████| 829kB 29.5MB/s eta 0:00:01\n",
      "\u001b[?25hCollecting vine<6.0,>=5.0.0\n",
      "  Downloading https://files.pythonhosted.org/packages/03/ff/7c0c86c43b3cbb927e0ccc0255cb4057ceba4799cd44ae95174ce8e8b5b2/vine-5.1.0-py3-none-any.whl\n",
      "Collecting pytz>0.dev.0\n",
      "\u001b[?25l  Downloading https://files.pythonhosted.org/packages/9c/3d/a121f284241f08268b21359bd425f7d4825cffc5ac5cd0e1b3d82ffd2b10/pytz-2024.1-py2.py3-none-any.whl (505kB)\n",
      "\u001b[K     |████████████████████████████████| 512kB 45.5MB/s eta 0:00:01\n",
      "\u001b[?25hCollecting click<9.0,>=8.0\n",
      "\u001b[?25l  Downloading https://files.pythonhosted.org/packages/00/2e/d53fa4befbf2cfa713304affc7ca780ce4fc1fd8710527771b58311a3229/click-8.1.7-py3-none-any.whl (97kB)\n",
      "\u001b[K     |████████████████████████████████| 102kB 14.1MB/s ta 0:00:01\n",
      "\u001b[?25hCollecting billiard<4.0,>=3.6.4.0\n",
      "\u001b[?25l  Downloading https://files.pythonhosted.org/packages/2b/89/0c43de91d4e52eaa7bd748771d417f6ac9e51e66b2f61928c2151bf65878/billiard-3.6.4.0-py3-none-any.whl (89kB)\n",
      "\u001b[K     |████████████████████████████████| 92kB 14.6MB/s eta 0:00:01\n",
      "\u001b[?25hCollecting prompt-toolkit>=3.0.36\n",
      "\u001b[?25l  Downloading https://files.pythonhosted.org/packages/ee/fd/ca7bf3869e7caa7a037e23078539467b433a4e01eebd93f77180ab927766/prompt_toolkit-3.0.43-py3-none-any.whl (386kB)\n",
      "\u001b[K     |████████████████████████████████| 389kB 47.2MB/s eta 0:00:01\n",
      "\u001b[?25hCollecting typing-extensions; python_version < \"3.10\"\n",
      "  Downloading https://files.pythonhosted.org/packages/f9/de/dc04a3ea60b22624b51c703a84bbe0184abcd1d0b9bc8074b5d6b7ab90bb/typing_extensions-4.10.0-py3-none-any.whl\n",
      "Collecting amqp<6.0.0,>=5.1.1\n",
      "\u001b[?25l  Downloading https://files.pythonhosted.org/packages/b3/f0/8e5be5d5e0653d9e1d02b1144efa33ff7d2963dfad07049e02c0fa9b2e8d/amqp-5.2.0-py3-none-any.whl (50kB)\n",
      "\u001b[K     |████████████████████████████████| 51kB 7.7MB/s  eta 0:00:01\n",
      "\u001b[?25hCollecting wcwidth\n",
      "  Downloading https://files.pythonhosted.org/packages/fd/84/fd2ba7aafacbad3c4201d395674fc6348826569da3c0937e75505ead3528/wcwidth-0.2.13-py2.py3-none-any.whl\n",
      "\u001b[31mERROR: mlflow 2.6.0 has requirement pytz<2024, but you'll have pytz 2024.1 which is incompatible.\u001b[0m\n",
      "\u001b[31mERROR: mosaic-ai-serving 1.0.0 has requirement Flask==2.1.1; python_version >= \"3.7\", but you'll have flask 2.3.3 which is incompatible.\u001b[0m\n",
      "\u001b[31mERROR: mosaic-ai-serving 1.0.0 has requirement itsdangerous==2.0.1, but you'll have itsdangerous 2.1.2 which is incompatible.\u001b[0m\n",
      "\u001b[31mERROR: mosaic-ai-serving 1.0.0 has requirement Jinja2==3.0.3, but you'll have jinja2 3.1.3 which is incompatible.\u001b[0m\n",
      "\u001b[31mERROR: mosaic-ai-serving 1.0.0 has requirement matplotlib==3.6.0; python_version >= \"3.8\", but you'll have matplotlib 3.8.3 which is incompatible.\u001b[0m\n",
      "Installing collected packages: wcwidth, prompt-toolkit, click, click-repl, click-plugins, typing-extensions, vine, amqp, kombu, click-didyoumean, setuptools, pytz, billiard, celery\n",
      "Successfully installed amqp-5.2.0 billiard-3.6.4.0 celery-5.2.2 click-8.1.7 click-didyoumean-0.3.1 click-plugins-1.1.1 click-repl-0.3.0 kombu-5.3.6 prompt-toolkit-3.0.43 pytz-2024.1 setuptools-69.2.0 typing-extensions-4.10.0 vine-5.1.0 wcwidth-0.2.13\n",
      "\u001b[33mWARNING: You are using pip version 19.3.1; however, version 24.0 is available.\n",
      "You should consider upgrading via the 'pip install --upgrade pip' command.\u001b[0m\n"
     ]
    }
   ],
   "source": [
    "!pip install celery==5.2.2"
   ]
  },
  {
   "cell_type": "code",
   "execution_count": null,
   "id": "b22108ab",
   "metadata": {},
   "outputs": [],
   "source": [
    "!pip install "
   ]
  }
 ],
 "metadata": {
  "kernelspec": {
   "display_name": "Python 3",
   "language": "python",
   "name": "python3"
  },
  "language_info": {
   "codemirror_mode": {
    "name": "ipython",
    "version": 3
   },
   "file_extension": ".py",
   "mimetype": "text/x-python",
   "name": "python",
   "nbconvert_exporter": "python",
   "pygments_lexer": "ipython3",
   "version": "3.9.18"
  }
 },
 "nbformat": 4,
 "nbformat_minor": 5
}
